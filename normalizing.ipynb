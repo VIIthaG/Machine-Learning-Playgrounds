{
 "cells": [
  {
   "cell_type": "code",
   "execution_count": 22,
   "id": "31502dfa-752e-43ca-98e8-105d775a0bc0",
   "metadata": {},
   "outputs": [],
   "source": [
    "import numpy as np\n",
    "import tensorflow as tf\n",
    "import os\n",
    "import cv2\n",
    "from tensorflow.keras.layers import Dense, Flatten , Activation , Conv2D , MaxPooling2D, Dropout\n",
    "from tensorflow.keras.models import Sequential\n",
    "import pickle\n",
    "from tensorflow.keras.callbacks import TensorBoard\n",
    "import time\n",
    "\n",
    "NAME=\"Cats-vs-Dogs-64x2-CNN-{}\".format(int(time.time()))\n",
    "tensorboard= TensorBoard(log_dir=\"logs/{}\".format(NAME))\n",
    "\n",
    "x = pickle.load(open(\"x.pickle\",\"rb\"))\n",
    "y = pickle.load(open(\"y.pickle\",\"rb\"))\n",
    "\n",
    "x=x/255.0"
   ]
  },
  {
   "cell_type": "code",
   "execution_count": 24,
   "id": "4113cce7-b584-41f8-bc38-24cf1c917f18",
   "metadata": {},
   "outputs": [
    {
     "name": "stdout",
     "output_type": "stream",
     "text": [
      "Epoch 1/3\n",
      "\u001b[1m702/702\u001b[0m \u001b[32m━━━━━━━━━━━━━━━━━━━━\u001b[0m\u001b[37m\u001b[0m \u001b[1m34s\u001b[0m 47ms/step - accuracy: 0.6090 - loss: 0.6485 - val_accuracy: 0.7467 - val_loss: 0.5133\n",
      "Epoch 2/3\n",
      "\u001b[1m702/702\u001b[0m \u001b[32m━━━━━━━━━━━━━━━━━━━━\u001b[0m\u001b[37m\u001b[0m \u001b[1m32s\u001b[0m 46ms/step - accuracy: 0.7610 - loss: 0.5018 - val_accuracy: 0.7635 - val_loss: 0.4912\n",
      "Epoch 3/3\n",
      "\u001b[1m702/702\u001b[0m \u001b[32m━━━━━━━━━━━━━━━━━━━━\u001b[0m\u001b[37m\u001b[0m \u001b[1m33s\u001b[0m 47ms/step - accuracy: 0.7940 - loss: 0.4400 - val_accuracy: 0.7756 - val_loss: 0.4835\n"
     ]
    },
    {
     "data": {
      "text/plain": [
       "<keras.src.callbacks.history.History at 0x20ee174ef30>"
      ]
     },
     "execution_count": 24,
     "metadata": {},
     "output_type": "execute_result"
    }
   ],
   "source": [
    "\n",
    "y = np.array(y)\n",
    "model= Sequential()\n",
    "model.add(Conv2D(64, (3,3), input_shape= x.shape[1:] ))\n",
    "model.add(Activation(\"relu\"))\n",
    "model.add(MaxPooling2D(pool_size=(2,2)))\n",
    "\n",
    "model.add(Conv2D(64, (3,3)))\n",
    "model.add(Activation(\"relu\"))\n",
    "model.add(MaxPooling2D(pool_size=(2,2)))\n",
    "\n",
    "model.add(Flatten())\n",
    "model.add(Dense(64))\n",
    "model.add(Activation(\"relu\"))\n",
    "\n",
    "model.add(Dense(1))\n",
    "model.add(Activation(\"sigmoid\"))\n",
    "\n",
    "model.compile(optimizer=\"adam\", loss= \"binary_crossentropy\",metrics=[\"accuracy\"])\n",
    "model.fit(x,y, batch_size= 32 , validation_split= 0.1, epochs = 3, callbacks=[tensorboard])\n"
   ]
  },
  {
   "cell_type": "code",
   "execution_count": null,
   "id": "b5596296-57bf-4d17-a5ce-f8f0db75379f",
   "metadata": {},
   "outputs": [],
   "source": []
  }
 ],
 "metadata": {
  "kernelspec": {
   "display_name": "Python 3 (ipykernel)",
   "language": "python",
   "name": "python3"
  },
  "language_info": {
   "codemirror_mode": {
    "name": "ipython",
    "version": 3
   },
   "file_extension": ".py",
   "mimetype": "text/x-python",
   "name": "python",
   "nbconvert_exporter": "python",
   "pygments_lexer": "ipython3",
   "version": "3.12.4"
  }
 },
 "nbformat": 4,
 "nbformat_minor": 5
}
